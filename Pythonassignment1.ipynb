{
 "cells": [
  {
   "cell_type": "markdown",
   "id": "443de5e0-74b6-4203-b0cf-b78530632d0c",
   "metadata": {},
   "source": [
    "1.Write a Python program to find the area of a triangle?"
   ]
  },
  {
   "cell_type": "code",
   "execution_count": 1,
   "id": "f92fc3dc-dbbf-4d6f-b973-204170fbd4dd",
   "metadata": {},
   "outputs": [
    {
     "name": "stdin",
     "output_type": "stream",
     "text": [
      "Enter the base of the triangle:  8\n",
      "Enter the height of the triangle:  5\n"
     ]
    },
    {
     "name": "stdout",
     "output_type": "stream",
     "text": [
      "The area of the triangle is: 20.0\n"
     ]
    }
   ],
   "source": [
    "def area_triangle(Base,Height):\n",
    "    \"\"\" Calculate the area of a triangle given its base and height.\n",
    "    Arg:\n",
    "    - Base : The length of the base of the triangle.\n",
    "    - Height: The height of the triangle.\n",
    "     Formula:\n",
    "     Area=0.5*Base*Height\n",
    "\"\"\"\n",
    "    area=0.5*Base*Height\n",
    "    return area\n",
    "Base = int(input(\"Enter the base of the triangle: \"))\n",
    "Height = int(input(\"Enter the height of the triangle: \"))\n",
    "print(\"The area of the triangle is:\",area_triangle(Base,Height))"
   ]
  },
  {
   "cell_type": "markdown",
   "id": "7c4156e5-0557-4e81-96f4-8d31e246f1d4",
   "metadata": {},
   "source": [
    "2.Write a Python program to swap two variables?"
   ]
  },
  {
   "cell_type": "code",
   "execution_count": 8,
   "id": "7bcdc04b-c75a-4a74-9f75-97502b2b82be",
   "metadata": {},
   "outputs": [
    {
     "name": "stdin",
     "output_type": "stream",
     "text": [
      "Enter first number 55\n",
      "Enter second number 88\n"
     ]
    },
    {
     "name": "stdout",
     "output_type": "stream",
     "text": [
      "Original values 55 88\n",
      "Values after swapping 88 55\n"
     ]
    }
   ],
   "source": [
    "def swap_variables(x, y):\n",
    "    \"\"\"\n",
    "    Swap the values of two variables.\n",
    "\n",
    "    Args:\n",
    "    - x: The first variable.\n",
    "    - y: The second variable.\n",
    "    Create temp variable\n",
    "    \"\"\"\n",
    "    print(\"Original values\",x,y)\n",
    "    temp = 0;\n",
    "    temp = x;\n",
    "    x = y;\n",
    "    y = temp;\n",
    "    print(\"Values after swapping\",x,y);\n",
    "num1=int(input(\"Enter first number\"))\n",
    "num2=int(input(\"Enter second number\"))\n",
    "swap_variables(num1,num2)\n",
    "\n"
   ]
  },
  {
   "cell_type": "markdown",
   "id": "44d7818d-fc74-4703-93e6-b9922f6937f4",
   "metadata": {},
   "source": [
    "3.Write a Python program to generate a random number?"
   ]
  },
  {
   "cell_type": "code",
   "execution_count": 17,
   "id": "768ac768-296e-4e05-8866-cfeba95491b1",
   "metadata": {},
   "outputs": [
    {
     "name": "stdout",
     "output_type": "stream",
     "text": [
      "Random number generated: 56\n"
     ]
    }
   ],
   "source": [
    "import random\n",
    "def generate_random_number():\n",
    "    \"\"\"\n",
    "    Generate a random number within the specified range.\n",
    "    random number range in between (1,100) \n",
    "    random.randint() function is used to generate a random integer within the specified range.\n",
    "    \"\"\"\n",
    "    return random.randint(1, 100)\n",
    "random_number = generate_random_number()\n",
    "print(\"Random number generated:\", random_number)"
   ]
  },
  {
   "cell_type": "markdown",
   "id": "b197810e-bf62-4a2d-b21f-00dc6afd1f7d",
   "metadata": {},
   "source": [
    "4.Write a Python program to solve quadratic equation?"
   ]
  },
  {
   "cell_type": "code",
   "execution_count": 11,
   "id": "392033a0-b430-48e0-8eff-46432b0cee68",
   "metadata": {},
   "outputs": [
    {
     "name": "stdin",
     "output_type": "stream",
     "text": [
      "Enter coefficient a:  4\n",
      "Enter coefficient b:  6\n",
      "Enter coefficient c:  8\n"
     ]
    },
    {
     "name": "stdout",
     "output_type": "stream",
     "text": [
      "Roots:\n",
      "Root 1: (-0.75+1.1989578808281798j)\n",
      "Root 2: (-0.75-1.1989578808281798j)\n"
     ]
    }
   ],
   "source": [
    "import math\n",
    "def solve_quadratic(a, b, c):\n",
    "    \"\"\"Function to solve a quadratic equation\"\"\"\n",
    " # Calculate discriminant\n",
    "    discriminant = b**2 - 4*a*c\n",
    "# Calculate roots\n",
    "    if discriminant > 0:\n",
    "        root1 = (-b + math.sqrt(discriminant)) / (2*a)\n",
    "        root2 = (-b - math.sqrt(discriminant)) / (2*a)\n",
    "        return root1, root2\n",
    "    elif discriminant == 0:\n",
    "        root = -b / (2*a)\n",
    "        return root, root\n",
    "    else:\n",
    "        real_part = -b / (2*a)\n",
    "        imaginary_part = math.sqrt(abs(discriminant)) / (2*a)\n",
    "        root1 = complex(real_part, imaginary_part)\n",
    "        root2 = complex(real_part, -imaginary_part)\n",
    "        return root1, root2\n",
    "# Coefficients of the quadratic equation\n",
    "a = float(input(\"Enter coefficient a: \"))\n",
    "b = float(input(\"Enter coefficient b: \"))\n",
    "c = float(input(\"Enter coefficient c: \"))\n",
    "roots = solve_quadratic(a, b, c)\n",
    "print(\"Roots:\")\n",
    "print(\"Root 1:\", roots[0])\n",
    "print(\"Root 2:\", roots[1])"
   ]
  },
  {
   "cell_type": "markdown",
   "id": "8006e54a-d461-42fc-bed9-9719ab220978",
   "metadata": {},
   "source": [
    "5.Write a Python Program to Check if a Number is Positive, Negative or Zero?"
   ]
  },
  {
   "cell_type": "code",
   "execution_count": 22,
   "id": "0e468e8b-1e59-4dea-a84e-d74ed5d3927c",
   "metadata": {},
   "outputs": [
    {
     "name": "stdin",
     "output_type": "stream",
     "text": [
      "Enter a number:  99\n"
     ]
    },
    {
     "name": "stdout",
     "output_type": "stream",
     "text": [
      "The number is Positive\n"
     ]
    }
   ],
   "source": [
    "def check_number(number):\n",
    "    \"\"\"\n",
    "    Check if a number is positive, negative, or zero.\n",
    "    if number > 0:return 'Positive'\n",
    "    or number < 0:return 'Negative' otherwise 'Zero'\n",
    "    \"\"\"\n",
    "    if number > 0:\n",
    "        return 'Positive'\n",
    "    elif number < 0:\n",
    "        return 'Negative'\n",
    "    else:\n",
    "        return 'Zero'\n",
    "num = int(input(\"Enter a number: \"))\n",
    "result = check_number(num)\n",
    "print(\"The number is\", result)\n",
    "\n",
    "    "
   ]
  },
  {
   "cell_type": "markdown",
   "id": "ac22e91e-3292-4889-a089-a29e9ab30293",
   "metadata": {},
   "source": [
    "6.Write a Python Program to Check if a Number is Odd or Even?"
   ]
  },
  {
   "cell_type": "code",
   "execution_count": 30,
   "id": "fb2e1317-9915-41d4-9630-232daecef321",
   "metadata": {},
   "outputs": [
    {
     "name": "stdin",
     "output_type": "stream",
     "text": [
      "Enter a number:  55\n"
     ]
    },
    {
     "name": "stdout",
     "output_type": "stream",
     "text": [
      "The number is Odd\n"
     ]
    }
   ],
   "source": [
    "def check_odd_even(number):\n",
    "    \"\"\"\n",
    "    Check if a number is odd or even.take a user input if number % 2 == 0\n",
    "    number is even otherwise it is odd\n",
    "    \"\"\"\n",
    "    if number % 2 == 0:\n",
    "        return 'Even'\n",
    "    else:\n",
    "        return 'Odd'\n",
    "num = int(input(\"Enter a number: \"))\n",
    "result = check_odd_even(num)\n",
    "print(\"The number is\", result)"
   ]
  },
  {
   "cell_type": "markdown",
   "id": "861a113d-7d81-4d36-b4dc-4287075b7824",
   "metadata": {},
   "source": [
    "7.Write a Python Program to Check Leap Year?"
   ]
  },
  {
   "cell_type": "code",
   "execution_count": 34,
   "id": "09c7bf4b-e9cd-41ca-b755-88fc87aed930",
   "metadata": {},
   "outputs": [
    {
     "name": "stdin",
     "output_type": "stream",
     "text": [
      "Enter a year:  2020\n"
     ]
    },
    {
     "name": "stdout",
     "output_type": "stream",
     "text": [
      "2020 is a leap year.\n"
     ]
    }
   ],
   "source": [
    "def is_leap_year(year):\n",
    "    \"\"\"\n",
    "    Check if a year is a leap year.\n",
    "    Leap year conditions:\n",
    "    If year is divisible by 4 but not by 100, or if it's divisible by 400.\n",
    "    \"\"\"\n",
    "    if (year % 4 == 0 and year % 100 != 0) or (year % 400 == 0):\n",
    "        return True\n",
    "    else:\n",
    "        return False\n",
    "year = int(input(\"Enter a year: \"))\n",
    "if is_leap_year(year):\n",
    "    print(year, \"is a leap year.\")\n",
    "else:\n",
    "    print(year, \"is not a leap year.\")"
   ]
  },
  {
   "cell_type": "markdown",
   "id": "f4992ee6-eba2-403f-872b-47adfbad6c2e",
   "metadata": {},
   "source": [
    "8.Write a Python Program to Check Prime Number?"
   ]
  },
  {
   "cell_type": "code",
   "execution_count": 47,
   "id": "13184338-d2d3-4d3b-bee5-8d9f47b3ca38",
   "metadata": {},
   "outputs": [
    {
     "name": "stdin",
     "output_type": "stream",
     "text": [
      "Enter a number:  8\n"
     ]
    },
    {
     "name": "stdout",
     "output_type": "stream",
     "text": [
      "8 is not a prime number.\n"
     ]
    }
   ],
   "source": [
    "def is_prime(number):\n",
    "    \"\"\"\n",
    "    Check if a number is a prime number.Numbers less than or equal to 1 are not prime\n",
    "     \n",
    "    \"\"\"\n",
    "    if number <= 1:\n",
    "        return False\n",
    "    for i in range(2,int(number**0.5) + 1):\n",
    "        if number% i == 0:\n",
    "            return False\n",
    "        return True\n",
    "num = int(input(\"Enter a number: \"))\n",
    "if is_prime(num):\n",
    "    print(num, \"is a prime number.\")\n",
    "else:\n",
    "    print(num, \"is not a prime number.\")\n"
   ]
  },
  {
   "cell_type": "markdown",
   "id": "9f9eafaf-d1db-48e3-9fac-b3cb0a61bac8",
   "metadata": {},
   "source": [
    "9.Write a Python Program to Display the multiplication Table?"
   ]
  },
  {
   "cell_type": "code",
   "execution_count": 49,
   "id": "7dbc0e58-6aeb-4872-aa20-6afcb8972b57",
   "metadata": {},
   "outputs": [
    {
     "name": "stdin",
     "output_type": "stream",
     "text": [
      "Enter a number to display its multiplication table:  9\n"
     ]
    },
    {
     "name": "stdout",
     "output_type": "stream",
     "text": [
      "Multiplication Table of 9 :\n",
      "9 x 1 = 9\n",
      "9 x 2 = 18\n",
      "9 x 3 = 27\n",
      "9 x 4 = 36\n",
      "9 x 5 = 45\n",
      "9 x 6 = 54\n",
      "9 x 7 = 63\n",
      "9 x 8 = 72\n",
      "9 x 9 = 81\n",
      "9 x 10 = 90\n"
     ]
    }
   ],
   "source": [
    "def display_multiplication_table(number):\n",
    "    \"\"\"\n",
    "     create function Display the multiplication table of a given number.\n",
    "     use a loop to iterate from 1 to 10 and displays the multiplication table of the given number.\n",
    "    \"\"\"\n",
    "    print(\"Multiplication Table of\", number, \":\")\n",
    "    for i in range(1, 11):\n",
    "        print(number, \"x\", i, \"=\", number * i)\n",
    "num = int(input(\"Enter a number to display its multiplication table: \"))\n",
    "display_multiplication_table(num)"
   ]
  },
  {
   "cell_type": "markdown",
   "id": "91e3cfb3-a30c-4776-8915-a8cf7b667799",
   "metadata": {},
   "source": [
    "10.Write a Python Program to Find the Sum of Natural Numbers?"
   ]
  },
  {
   "cell_type": "code",
   "execution_count": 52,
   "id": "3ddcc629-1134-4352-9d6c-422a13c24753",
   "metadata": {},
   "outputs": [
    {
     "name": "stdin",
     "output_type": "stream",
     "text": [
      "Enter a number:  9\n"
     ]
    },
    {
     "name": "stdout",
     "output_type": "stream",
     "text": [
      "The sum of natural numbers up to 9 is: 45\n"
     ]
    }
   ],
   "source": [
    "def sum_of_natural_numbers(n):\n",
    "    \"\"\"\n",
    "    Create function to Calculate the sum of natural numbers up to a given number.\n",
    "    \"\"\"\n",
    "    return (n * (n + 1)) // 2\n",
    "num = int(input(\"Enter a number: \"))\n",
    "result = sum_of_natural_numbers(num)\n",
    "print(\"The sum of natural numbers up to\", num, \"is:\", result)"
   ]
  },
  {
   "cell_type": "markdown",
   "id": "c30ac58c-a7db-4593-8f8e-65b275b242dd",
   "metadata": {},
   "source": [
    "11.Write a Python Program to Make a Simple Calculator with 4 basic mathematical operations?"
   ]
  },
  {
   "cell_type": "code",
   "execution_count": 3,
   "id": "5d1ff600-ab01-4cd5-bdf2-32dc4d5bcd9e",
   "metadata": {},
   "outputs": [
    {
     "name": "stdout",
     "output_type": "stream",
     "text": [
      "Select operation:\n",
      "1. Add\n",
      "2. Subtract\n",
      "3. Multiply\n",
      "4. Divide\n"
     ]
    },
    {
     "name": "stdin",
     "output_type": "stream",
     "text": [
      "Enter choice (1/2/3/4):  1\n",
      "Enter first number:  58\n",
      "Enter second number:  89\n"
     ]
    },
    {
     "name": "stdout",
     "output_type": "stream",
     "text": [
      "Result: 147.0\n"
     ]
    }
   ],
   "source": [
    "def add(x, y):\n",
    "    \"\"\"create Function to add two numbers\"\"\"\n",
    "    return x + y\n",
    "def subtract(x, y):\n",
    "    \"\"\"create Function to subtract two numbers\"\"\"\n",
    "    return x - y\n",
    "def multiply(x, y):\n",
    "    \"\"\" create Function to multiply two numbers\"\"\"\n",
    "    return x * y\n",
    "def divide(x, y):\n",
    "    \"\"\" create Function to divide two numbers\"\"\"\n",
    "    if y == 0:\n",
    "        return\n",
    "    else:\n",
    "        return x / y\n",
    "print(\"Select operation:\")\n",
    "print(\"1. Add\")\n",
    "print(\"2. Subtract\")\n",
    "print(\"3. Multiply\")\n",
    "print(\"4. Divide\")\n",
    "while True:\n",
    "    choice = input(\"Enter choice (1/2/3/4): \")\n",
    "    if choice in ('1', '2', '3', '4'):\n",
    "        num1 = float(input(\"Enter first number: \"))\n",
    "        num2 = float(input(\"Enter second number: \"))\n",
    "        if choice == '1':\n",
    "            print(\"Result:\", add(num1, num2))\n",
    "        elif choice == '2':\n",
    "            print(\"Result:\", subtract(num1, num2))\n",
    "        elif choice == '3':\n",
    "            print(\"Result:\", multiply(num1, num2))\n",
    "        elif choice == '4':\n",
    "            print(\"Result:\", divide(num1, num2))\n",
    "        break\n",
    "    else:\n",
    "        print(\"Invalid Input\")"
   ]
  },
  {
   "cell_type": "markdown",
   "id": "0d6d49a0-14c7-42f6-b2c5-3ba10db0b0fa",
   "metadata": {},
   "source": [
    "12.Write a Python program to find sum of elements in list?"
   ]
  },
  {
   "cell_type": "code",
   "execution_count": 5,
   "id": "16926d88-3118-4750-87e1-90db1e8a72bb",
   "metadata": {},
   "outputs": [
    {
     "name": "stdout",
     "output_type": "stream",
     "text": [
      "Sum of elements in the list: 298\n"
     ]
    }
   ],
   "source": [
    "def sum_of_elements(input_list):\n",
    "    \"\"\"Function to calculate the sum of elements in a list\"\"\"\n",
    "    total = 0\n",
    "    for num in input_list:\n",
    "        total += num\n",
    "    return total\n",
    "my_list = [10, 20, 30, 40, 50,100,48]\n",
    "print(\"Sum of elements in the list:\", sum_of_elements(my_list))"
   ]
  },
  {
   "cell_type": "markdown",
   "id": "2cecc4cf-efb9-47b5-9344-709b39f0c94e",
   "metadata": {},
   "source": [
    "13.Write a Python program to Multiply all numbers in the list?"
   ]
  },
  {
   "cell_type": "code",
   "execution_count": 8,
   "id": "a810dfe8-b640-4ace-af65-be53588f1121",
   "metadata": {},
   "outputs": [
    {
     "name": "stdout",
     "output_type": "stream",
     "text": [
      "Result using loop: 5040\n"
     ]
    }
   ],
   "source": [
    "def multiply_list(numbers):\n",
    "    \"\"\"Function to multiply all elements in a list multiply_list, which takes a list of numbers as input and returns the product of all elements in the list. \n",
    "    \"\"\"\n",
    "    result = 1\n",
    "    for num in numbers:\n",
    "        result *= num\n",
    "    return result\n",
    "def main():\n",
    "    num_list = [1, 2, 3, 4, 5, 6, 7]\n",
    "    result = multiply_list(num_list)\n",
    "    print(\"Result using loop:\", result)\n",
    "if __name__ == \"__main__\":\n",
    "    main()"
   ]
  },
  {
   "cell_type": "markdown",
   "id": "fd3bc2c6-a5ce-4037-a634-d74ffc788428",
   "metadata": {},
   "source": [
    "14.Write a Python program to find smallest number in a list?"
   ]
  },
  {
   "cell_type": "code",
   "execution_count": 9,
   "id": "1579f8b7-623e-4203-b32a-b79f24044896",
   "metadata": {},
   "outputs": [
    {
     "name": "stdout",
     "output_type": "stream",
     "text": [
      "Sorted list: [13, 29, 33, 48, 56, 67, 75, 83, 88, 98, 99]\n",
      "Smallest number is: 13\n"
     ]
    }
   ],
   "source": [
    "def find_smallest_number(input_list):\n",
    "    \"\"\"Function to find the smallest number in a list .\n",
    "    find_smallest_number function takes a list as input, sorts it using the sorted() function. \n",
    "    \"\"\"\n",
    "    sorted_list = sorted(input_list)\n",
    "    return sorted_list[0]\n",
    "def main():\n",
    "    num_list = [99, 56, 98, 13, 67, 83, 29, 33, 48, 75, 88]\n",
    "    smallest_number = find_smallest_number(num_list)\n",
    "    print(\"Sorted list:\", sorted(num_list))\n",
    "    print(\"Smallest number is:\", smallest_number)\n",
    "if __name__ == \"__main__\":\n",
    "    main()"
   ]
  },
  {
   "cell_type": "markdown",
   "id": "e1d47f78-ae6b-4447-a27b-4cb1d37a3582",
   "metadata": {},
   "source": [
    "15.Write a Python program to find largest number in a list?"
   ]
  },
  {
   "cell_type": "code",
   "execution_count": 12,
   "id": "0756c037-74ca-4186-92fe-808c3041bccc",
   "metadata": {},
   "outputs": [
    {
     "name": "stdout",
     "output_type": "stream",
     "text": [
      "Sorted list: [13, 29, 33, 48, 56, 67, 75, 83, 88, 98, 99]\n",
      "Largest number is: 99\n"
     ]
    }
   ],
   "source": [
    "def find_largest_number(input_list):\n",
    "    \"\"\"Function to find the largest number in a list.\n",
    "       find_largest_number function takes a list as input, sorts it using the sorted() function.\n",
    "    \"\"\"\n",
    "    sorted_list = sorted(input_list)\n",
    "    return sorted_list[-1]\n",
    "def main():\n",
    "    num_list = [99, 56, 98, 13, 67, 83, 29, 33, 48, 75, 88]\n",
    "    largest_number = find_largest_number(num_list)\n",
    "    print(\"Sorted list:\", sorted(num_list))\n",
    "    print(\"Largest number is:\", largest_number)\n",
    "if __name__ == \"__main__\":\n",
    "    main()"
   ]
  },
  {
   "cell_type": "code",
   "execution_count": null,
   "id": "955714ad-3ef6-425d-90f2-dba82e079bb5",
   "metadata": {},
   "outputs": [],
   "source": []
  }
 ],
 "metadata": {
  "kernelspec": {
   "display_name": "Python 3 (ipykernel)",
   "language": "python",
   "name": "python3"
  },
  "language_info": {
   "codemirror_mode": {
    "name": "ipython",
    "version": 3
   },
   "file_extension": ".py",
   "mimetype": "text/x-python",
   "name": "python",
   "nbconvert_exporter": "python",
   "pygments_lexer": "ipython3",
   "version": "3.12.3"
  }
 },
 "nbformat": 4,
 "nbformat_minor": 5
}
